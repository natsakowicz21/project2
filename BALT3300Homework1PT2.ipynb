{
  "cells": [
    {
      "cell_type": "markdown",
      "metadata": {
        "id": "view-in-github",
        "colab_type": "text"
      },
      "source": [
        "<a href=\"https://colab.research.google.com/github/natsakowicz21/project2/blob/master/BALT3300Homework1PT2.ipynb\" target=\"_parent\"><img src=\"https://colab.research.google.com/assets/colab-badge.svg\" alt=\"Open In Colab\"/></a>"
      ]
    },
    {
      "cell_type": "markdown",
      "metadata": {
        "id": "RCRtATcMgdOp"
      },
      "source": [
        "HOMEWORK 1 continued..."
      ]
    },
    {
      "cell_type": "markdown",
      "metadata": {
        "id": "dmIBfLhMgfY6"
      },
      "source": [
        "Chapter 3, exercise 1: Rewrite your pay computation to give the employee 1.5 times the hourly rate for hours worked above 40 hours. Enter Hours: 45 Enter Rate: 10 Pay: 475.0"
      ]
    },
    {
      "cell_type": "code",
      "execution_count": null,
      "metadata": {
        "colab": {
          "base_uri": "https://localhost:8080/"
        },
        "id": "h6Gw-zFHeSa7",
        "outputId": "d5b4a380-8c49-470d-bb8e-370adec5a9b5"
      },
      "outputs": [
        {
          "name": "stdout",
          "output_type": "stream",
          "text": [
            "Enter hours worked:45\n",
            "Enter rate of earnings:10\n",
            "Total Pay:\n"
          ]
        },
        {
          "data": {
            "text/plain": [
              "(None, 475.0)"
            ]
          },
          "execution_count": 1,
          "metadata": {},
          "output_type": "execute_result"
        }
      ],
      "source": [
        "hours = int(input(\"Enter hours worked:\"))\n",
        "rate = int(input(\"Enter rate of earnings:\"))\n",
        "\n",
        "if hours <= 40:\n",
        "  pay = hours * rate\n",
        "  \n",
        "else:\n",
        "  pay = ((hours - 40)*(1.5*rate))+(rate*40)\n",
        "\n",
        "print(\"Total Pay:\"), pay"
      ]
    },
    {
      "cell_type": "markdown",
      "metadata": {
        "id": "sg9ZoQg9gkcU"
      },
      "source": [
        "Chapter 3, exercise 2: Rewrite your pay program using try and except so that your program handles non-numeric input gracefully by printing a message and exiting the program.\n",
        "\n",
        "The following shows two executions of the program: Enter Hours: 20 Enter Rate: nine Error, please enter numeric input Enter Hours: forty Error, please enter numeric input"
      ]
    },
    {
      "cell_type": "code",
      "execution_count": null,
      "metadata": {
        "colab": {
          "base_uri": "https://localhost:8080/",
          "height": 236
        },
        "id": "Bi3omR5Agm8P",
        "outputId": "5f063543-36ae-4827-a463-da2c7d82d634"
      },
      "outputs": [
        {
          "ename": "KeyboardInterrupt",
          "evalue": "ignored",
          "output_type": "error",
          "traceback": [
            "\u001b[0;31m---------------------------------------------------------------------------\u001b[0m",
            "\u001b[0;31mKeyboardInterrupt\u001b[0m                         Traceback (most recent call last)",
            "\u001b[0;32m<ipython-input-4-581b8dd2d441>\u001b[0m in \u001b[0;36m<module>\u001b[0;34m\u001b[0m\n\u001b[1;32m      1\u001b[0m \u001b[0;32mwhile\u001b[0m \u001b[0;32mTrue\u001b[0m\u001b[0;34m:\u001b[0m\u001b[0;34m\u001b[0m\u001b[0;34m\u001b[0m\u001b[0m\n\u001b[0;32m----> 2\u001b[0;31m   \u001b[0merror_msg\u001b[0m\u001b[0;34m=\u001b[0m\u001b[0;34m\"Error, please enter a numeric value\"\u001b[0m\u001b[0;34m\u001b[0m\u001b[0;34m\u001b[0m\u001b[0m\n\u001b[0m\u001b[1;32m      3\u001b[0m \u001b[0;34m\u001b[0m\u001b[0m\n\u001b[1;32m      4\u001b[0m \u001b[0mhours\u001b[0m \u001b[0;34m=\u001b[0m \u001b[0minput\u001b[0m\u001b[0;34m(\u001b[0m\u001b[0;34m\"Enter hours: \"\u001b[0m\u001b[0;34m)\u001b[0m\u001b[0;34m\u001b[0m\u001b[0;34m\u001b[0m\u001b[0m\n\u001b[1;32m      5\u001b[0m \u001b[0;32mtry\u001b[0m\u001b[0;34m:\u001b[0m\u001b[0;34m\u001b[0m\u001b[0;34m\u001b[0m\u001b[0m\n",
            "\u001b[0;31mKeyboardInterrupt\u001b[0m: "
          ]
        }
      ],
      "source": [
        "error_msg=\"Error, please enter a numeric value\"\n",
        "\n",
        "hours = input(\"Enter hours: \")\n",
        "try: \n",
        "  float(hours)>= 0\n",
        "  \n",
        "except:\n",
        "  print(error_msg)\n",
        "  hours = input(\"Enter hours: \")\n",
        "  \n",
        "rate = input(\"Enter rate: \")  \n",
        "try: \n",
        "  float(rate)>= 0\n",
        "\n",
        "except:\n",
        "  print(error_msg)\n",
        "  rate = input(\"Enter rate: \")\n"
      ]
    },
    {
      "cell_type": "markdown",
      "metadata": {
        "id": "Qx5knme0gnYY"
      },
      "source": [
        "Chapter 3, Exercise 3: Write a program to prompt for a score between 0.0 and 1.0. If the score is out of range, print an error message. If the score is between 0.0 and 1.0, print a grade using the following table:  \n",
        "Score Grade >= 0.9 A >= 0.8 B >= 0.7 C >= 0.6 D < 0.6 F \n",
        "Enter score: 0.95 A \n",
        "Enter score: perfect Bad score \n",
        "Enter score: 10.0 Bad score \n",
        "Enter score: 0.75 C \n",
        "Enter score: 0.5 F \n",
        "Run the program repeatedly as shown above to test the various different values for input"
      ]
    },
    {
      "cell_type": "code",
      "execution_count": null,
      "metadata": {
        "colab": {
          "background_save": true,
          "base_uri": "https://localhost:8080/"
        },
        "id": "FwrUrfvYgpxC",
        "outputId": "c6c568f6-ba9d-4864-8f4b-46cfc07fa585"
      },
      "outputs": [
        {
          "name": "stdout",
          "output_type": "stream",
          "text": [
            "A\n"
          ]
        }
      ],
      "source": [
        "while True: \n",
        "\n",
        "  try:\n",
        "    score = float(input(\"Enter score 0.0-1.0: \"))\n",
        "  \n",
        "  except ValueError:\n",
        "        print(\"Bad grade.\")\n",
        "\n",
        "  else:\n",
        "      if score >= 0.9 and score <= 1.0:\n",
        "        print(\"A\")\n",
        "      elif score >= 0.8 and score < 0.9:\n",
        "        print(\"B\")\n",
        "      elif score >= 0.7 and score < 0.8:\n",
        "        print(\"C\") \n",
        "      elif score >= 0.6 and score < 0.7:\n",
        "        print(\"D\")\n",
        "      elif score <= 0.59:\n",
        "        print(\"F\")\n",
        "      \n",
        "      if score > 1.0 or 0.0 > score: \n",
        "        print(\"Bad grade.\")\n",
        "      \n",
        "    \n",
        "\n",
        "          "
      ]
    },
    {
      "cell_type": "markdown",
      "metadata": {
        "id": "UsyxGINDkr2w"
      },
      "source": [
        "Chapter 4, Exercise 6: Rewrite your pay computation with time-and-a-half for overtime and create a function called computepay which takes two parameters (hours and rate).\n",
        "\n",
        "Enter Hours: 45 Enter Rate: 10 Pay: 475.0"
      ]
    },
    {
      "cell_type": "code",
      "execution_count": null,
      "metadata": {
        "colab": {
          "base_uri": "https://localhost:8080/"
        },
        "id": "i8WuL8b5ksjD",
        "outputId": "7b4170ae-268e-4738-d6b4-0780b2400295"
      },
      "outputs": [
        {
          "name": "stdout",
          "output_type": "stream",
          "text": [
            "Enter hours: 45\n",
            "Enter rate: 10\n",
            "Pay  475.0\n"
          ]
        }
      ],
      "source": [
        "def computePay(hours, rate):\n",
        "  if hours > 40:\n",
        "    pay = 40 * rate\n",
        "    pay += (hours - 40) * rate * 1.5\n",
        "  elif hours <= 40:\n",
        "    pay = hours * rate\n",
        "  return pay\n",
        "\n",
        "try: \n",
        "  hours = int(input(\"Enter hours: \"))\n",
        "  rate = int(input(\"Enter rate: \"))\n",
        "  print(\"Pay \", computePay(hours, rate))\n",
        "except:\n",
        "  print(\"Non numeric data found.\")\n",
        "  quit()"
      ]
    },
    {
      "cell_type": "markdown",
      "metadata": {
        "id": "9wgRpwUvks4Q"
      },
      "source": [
        "Chapter 4, Exercise 7: Rewrite the grade program from the previous chapter using a function called computeGrade that takes a score as its parameter and returns a grade as a string. \n",
        "Score Grade >= 0.9 A >= 0.8 B >= 0.7 C >= 0.6 D < 0.6 F \n",
        "Enter score: 0.95 A \n",
        "Enter score: perfect Bad score \n",
        "Enter score: 10.0 Bad score \n",
        "Enter score: 0.75 C \n",
        "Enter score: 0.5 F\n"
      ]
    },
    {
      "cell_type": "code",
      "execution_count": null,
      "metadata": {
        "colab": {
          "background_save": true,
          "base_uri": "https://localhost:8080/"
        },
        "id": "KNVvnzIfpoaO",
        "outputId": "b7fa5168-bc88-4840-fe73-7cd5dcc86968"
      },
      "outputs": [
        {
          "name": "stdout",
          "output_type": "stream",
          "text": [
            "A\n",
            "Bad score.  Please run the program again.\n",
            "Bad score.  Please run the program again.\n",
            "C\n",
            "F\n"
          ]
        }
      ],
      "source": [
        "while True:\n",
        "  score=input(\"Please type a score between 0.0 and 1.0:\")\n",
        "  \n",
        "  try:\n",
        "    def computegrade():\n",
        "      if float(score) >= 0.9 and float(score) <= 1.0:\n",
        "        print(\"A\")\n",
        "      elif float(score) >= 0.8 and float(score) <= 0.9:\n",
        "        print(\"B\")\n",
        "      elif float(score) >= 0.7 and float(score) <= 0.8:\n",
        "        print(\"C\")\n",
        "      elif float(score) >= 0.6 and float(score) <= 0.7:\n",
        "        print(\"D\")\n",
        "      elif float(score) > 0 and float(score) <= 0.6:\n",
        "        print(\"F\")\n",
        "      else:\n",
        "        print(\"Bad score.  Please run the program again.\")  \n",
        "    computegrade()\n",
        "  \n",
        "  except: \n",
        "    print(\"Bad score.  Please run the program again.\")"
      ]
    }
  ],
  "metadata": {
    "colab": {
      "provenance": [],
      "authorship_tag": "ABX9TyPjXeaTgKzaOoPQ3GXwtkUh",
      "include_colab_link": true
    },
    "kernelspec": {
      "display_name": "Python 3",
      "name": "python3"
    },
    "language_info": {
      "name": "python"
    }
  },
  "nbformat": 4,
  "nbformat_minor": 0
}